{
 "cells": [
  {
   "cell_type": "code",
   "execution_count": 3,
   "id": "102aa66e",
   "metadata": {},
   "outputs": [
    {
     "name": "stdout",
     "output_type": "stream",
     "text": [
      "Line 2 - Value of c is  -10\n",
      "Line 3 - Value of c is  200\n",
      "Line 4 - Value of c is  0.5\n",
      "Line 5 - Value of c is  10\n",
      "Line 6 - Value of c is  8\n",
      "Line 7 - Value of c is  2\n"
     ]
    }
   ],
   "source": [
    "a=10\n",
    "b=20\n",
    "c=0\n",
    "c=a-b\n",
    "print (\"Line 2 - Value of c is \", c )\n",
    "c=a*b\n",
    "print (\"Line 3 - Value of c is \", c)\n",
    "c=a/b\n",
    "print (\"Line 4 - Value of c is \", c )\n",
    "c=a%b\n",
    "print (\"Line 5 - Value of c is \", c)\n",
    "a=2\n",
    "b=3\n",
    "c = a**b\n",
    "print (\"Line 6 - Value of c is \", c)\n",
    "a = 10\n",
    "b=5\n",
    "c = a//b\n",
    "print (\"Line 7 - Value of c is \", c)"
   ]
  },
  {
   "cell_type": "code",
   "execution_count": 4,
   "id": "d1f3156c",
   "metadata": {},
   "outputs": [
    {
     "name": "stdout",
     "output_type": "stream",
     "text": [
      "False\n",
      "True\n",
      "False\n",
      "True\n"
     ]
    }
   ],
   "source": [
    "a = 10\n",
    "b = 20\n",
    "print(a==b)\n",
    "print(a<=b)\n",
    "print(a>=b)\n",
    "print(a!=b)"
   ]
  },
  {
   "cell_type": "code",
   "execution_count": 5,
   "id": "a3af6676",
   "metadata": {},
   "outputs": [
    {
     "name": "stdout",
     "output_type": "stream",
     "text": [
      "30\n"
     ]
    }
   ],
   "source": [
    "c = a + b\n",
    "print (c)"
   ]
  },
  {
   "cell_type": "code",
   "execution_count": 17,
   "id": "f57117dd",
   "metadata": {},
   "outputs": [
    {
     "name": "stdout",
     "output_type": "stream",
     "text": [
      "2040\n",
      "2000\n",
      "80000\n"
     ]
    }
   ],
   "source": [
    "a+=b\n",
    "print (a)\n",
    "a-=b\n",
    "print (a)\n",
    "a*=b\n",
    "print (a)\n"
   ]
  },
  {
   "cell_type": "code",
   "execution_count": 23,
   "id": "63091349",
   "metadata": {},
   "outputs": [
    {
     "name": "stdout",
     "output_type": "stream",
     "text": [
      "a= 60 : 0b111100 b= b : 0b1101\n",
      "result of AND is  12 : 0b1100\n",
      "result of OR is  61 : 0b111101\n",
      "result of EXOR is  49 : 0b110001\n",
      "result of COMPLEMENT is  -61 : -0b111101\n",
      "result of LEFT SHIFT is 240 : 0b11110000\n",
      "result of RIGHT SHIFT is  15 : 0b1111\n"
     ]
    }
   ],
   "source": [
    "a = 60\n",
    "b = 13\n",
    "print ('a=',a,':',bin(a),'b=','b',':',bin(b))\n",
    "c=0\n",
    "\n",
    "c = a & b;\n",
    "print(\"result of AND is \", c, ':',bin(c))\n",
    "\n",
    "c=a|b; \n",
    "print(\"result of OR is \", c, ':', bin(c))\n",
    "\n",
    "c=a^b;\n",
    "print(\"result of EXOR is \", c, ':', bin(c))\n",
    "\n",
    "c=~a;\n",
    "print(\"result of COMPLEMENT is \", c, ':', bin(c))\n",
    "\n",
    "c=a<<2;\n",
    "print(\"result of LEFT SHIFT is\", c, ':', bin(c))\n",
    "\n",
    "c=a>>2;\n",
    "print(\"result of RIGHT SHIFT is \", c, ':', bin(c))"
   ]
  },
  {
   "cell_type": "code",
   "execution_count": 30,
   "id": "82440254",
   "metadata": {},
   "outputs": [
    {
     "name": "stdout",
     "output_type": "stream",
     "text": [
      "The count is: 0\n",
      "The count is: 1\n",
      "The count is: 2\n",
      "The count is: 3\n",
      "The count is: 4\n",
      "The count is: 5\n",
      "The count is: 6\n",
      "The count is: 7\n",
      "The count is: 8\n",
      "Good Byeee!\n"
     ]
    }
   ],
   "source": [
    "count = 0 \n",
    "while (count < 9):\n",
    "    print ('The count is:', count )\n",
    "    count = count + 1\n",
    "print (\"Good Byeee!\")"
   ]
  },
  {
   "cell_type": "code",
   "execution_count": 1,
   "id": "f7ec5827",
   "metadata": {},
   "outputs": [
    {
     "name": "stdout",
     "output_type": "stream",
     "text": [
      "30\n",
      "30\n",
      "10\n",
      "10\n"
     ]
    }
   ],
   "source": [
    "a=60\n",
    "b=40\n",
    "def fun1(a,b):\n",
    "    c=a+b\n",
    "    print (c)\n",
    "    return c;\n",
    "res1= fun1(10,20)\n",
    "print (res1)\n",
    "\n",
    "x=7\n",
    "y=3\n",
    "res2= fun1(x,y)\n",
    "print(res2)"
   ]
  },
  {
   "cell_type": "markdown",
   "id": "0214d770",
   "metadata": {},
   "source": [
    "<h1> Class In Python</h1>"
   ]
  },
  {
   "cell_type": "code",
   "execution_count": 16,
   "id": "3055d75b",
   "metadata": {},
   "outputs": [
    {
     "name": "stdout",
     "output_type": "stream",
     "text": [
      "2\n",
      "200\n",
      "2000\n"
     ]
    }
   ],
   "source": [
    "a = 2000\n",
    "\n",
    "class pc1:\n",
    "    a=200\n",
    "    n=\"harshada\"\n",
    "    def fun2(self,a,b):\n",
    "        a=2\n",
    "        ca = a+b\n",
    "        return a\n",
    "        \n",
    "obj1 = pc1()\n",
    "print(obj1.fun2(20,40))\n",
    "print(obj1.a)\n",
    "\n",
    "print(a)"
   ]
  },
  {
   "cell_type": "code",
   "execution_count": 1,
   "id": "abf2420a",
   "metadata": {},
   "outputs": [
    {
     "name": "stdout",
     "output_type": "stream",
     "text": [
      "Employee 1: John Doe, Salary: $5000\n",
      "Employee 2: Jane Smith, Salary: $6000\n"
     ]
    }
   ],
   "source": [
    "class Employee:\n",
    "    def __init__(self, name, salary):\n",
    "        self.name = name\n",
    "        self.salary = salary\n",
    "\n",
    "    def get_name(self):\n",
    "        return self.name\n",
    "\n",
    "    def get_salary(self):\n",
    "        return self.salary\n",
    "\n",
    "\n",
    "employee1 = Employee(\"John Doe\", 5000)\n",
    "employee2 = Employee(\"Jane Smith\", 6000)\n",
    "\n",
    "\n",
    "print(f\"Employee 1: {employee1.get_name()}, Salary: ${employee1.get_salary()}\")\n",
    "print(f\"Employee 2: {employee2.get_name()}, Salary: ${employee2.get_salary()}\")\n"
   ]
  },
  {
   "cell_type": "markdown",
   "id": "1a7340a5",
   "metadata": {},
   "source": [
    "<h1> Inheritance In Python </h1>"
   ]
  },
  {
   "cell_type": "raw",
   "id": "d0b8468b",
   "metadata": {},
   "source": [
    " class  A:\n",
    "    def __init__(self):\n",
    "        print(\"class A run \")\n",
    "            \n",
    "    def fun1(self):\n",
    "        print(\"class A function fun1 run\")\n",
    "        \n",
    "        \n",
    "class B(A):\n",
    "    def __init__(self):\n",
    "        print(\"class B run\")\n",
    "        \n",
    "    def fun2(self):\n",
    "        print(\"class B function fun2 run\")\n",
    "        \n",
    "        \n",
    "class C(B):\n",
    "    def __init__(self):\n",
    "        print(\"class C run\")\n",
    "        \n",
    "    def fun2(self):\n",
    "        print(\"class C function fun3 run\")\n",
    "        \n",
    "        \n",
    "        \n",
    "obj3 = C()\n",
    "obj3.fun2()\n",
    "obj3.fun1()\n",
    "     "
   ]
  },
  {
   "cell_type": "markdown",
   "id": "200ecd7b",
   "metadata": {},
   "source": [
    "<h1> Lists In Python </h1>"
   ]
  },
  {
   "cell_type": "code",
   "execution_count": 31,
   "id": "0704b893",
   "metadata": {},
   "outputs": [
    {
     "name": "stdout",
     "output_type": "stream",
     "text": [
      "['physics', 'chemistry', 1997]\n",
      "[3, 4]\n",
      "First list lenght : 4\n",
      "Second list lenght : 5\n",
      "5\n",
      "['physics', 'chemistry', 1997, 2000]\n",
      "['physics', 'chemistry', 1997]\n",
      "dict['Name']: Zara\n",
      "dict['Age']: 7\n"
     ]
    }
   ],
   "source": [
    "list1 = ['physics' , 'chemistry', 1997 , 2000];\n",
    "list2 = [1, 2, 3, 4 ,5 ];\n",
    "list3 = [\"a\", \"b\", \"c\", \"d\"];\n",
    "\n",
    "\n",
    "print(list1[0:3])\n",
    "print(list2[-3:-1])\n",
    "\n",
    "\n",
    "print (\"First list lenght :\" , len(list1));\n",
    "print (\"Second list lenght :\" , len(list2));\n",
    "print (max(list2))\n",
    "\n",
    "print (list1)\n",
    "list1.pop()\n",
    "print (list1)\n",
    "\n",
    "\n",
    "dict = {'Name': 'Zara', 'Age': 7, 'Class': 'First'};\n",
    "\n",
    "print(\"dict['Name']:\", dict['Name']);\n",
    "print(\"dict['Age']:\", dict['Age']);\n"
   ]
  },
  {
   "cell_type": "markdown",
   "id": "66d9c66b",
   "metadata": {},
   "source": [
    "<h1> Import Numpy </h1>"
   ]
  },
  {
   "cell_type": "code",
   "execution_count": 9,
   "id": "b9c2206f",
   "metadata": {},
   "outputs": [
    {
     "name": "stdout",
     "output_type": "stream",
     "text": [
      "[11 22 33]\n"
     ]
    }
   ],
   "source": [
    "import numpy as np\n",
    "\n",
    "list1 = [11,22,33]\n",
    "a=np.array(list1)\n",
    "print (a)"
   ]
  },
  {
   "cell_type": "markdown",
   "id": "0d903bd3",
   "metadata": {},
   "source": [
    "<h1> Create a NumPy array </h1>"
   ]
  },
  {
   "cell_type": "code",
   "execution_count": 11,
   "id": "da0b5190",
   "metadata": {},
   "outputs": [
    {
     "name": "stdout",
     "output_type": "stream",
     "text": [
      "[1 2 3 4 5]\n",
      "<class 'numpy.ndarray'>\n"
     ]
    }
   ],
   "source": [
    "    import numpy as np\n",
    "    arr = np.array([1, 2, 3, 4, 5])\n",
    "    print(arr)\n",
    "    print(type(arr))"
   ]
  },
  {
   "cell_type": "markdown",
   "id": "69c1ab03",
   "metadata": {},
   "source": [
    "<h1> Create a 0-D array with value 42 </h1>"
   ]
  },
  {
   "cell_type": "code",
   "execution_count": 12,
   "id": "cd6ac4a1",
   "metadata": {},
   "outputs": [
    {
     "name": "stdout",
     "output_type": "stream",
     "text": [
      "42\n"
     ]
    }
   ],
   "source": [
    "import numpy as np\n",
    "\n",
    "arr = np.array(42)\n",
    "\n",
    "print(arr)"
   ]
  },
  {
   "cell_type": "markdown",
   "id": "6c70a19c",
   "metadata": {},
   "source": [
    "<h1> Create a 1-D array containing the values 1,2,3,4,5: </h1>"
   ]
  },
  {
   "cell_type": "code",
   "execution_count": 13,
   "id": "f7abe726",
   "metadata": {},
   "outputs": [
    {
     "name": "stdout",
     "output_type": "stream",
     "text": [
      "[1 2 3 4 5]\n"
     ]
    }
   ],
   "source": [
    "    import numpy as np\n",
    "    arr = np.array([1, 2, 3, 4, 5])\n",
    "    print(arr)\n",
    "  "
   ]
  },
  {
   "cell_type": "markdown",
   "id": "ac8eca1a",
   "metadata": {},
   "source": [
    "<h1> Create a 2-D array containing two array with the values 1,2,3 and 4,5,6: </h1>"
   ]
  },
  {
   "cell_type": "code",
   "execution_count": 15,
   "id": "c5965fb9",
   "metadata": {},
   "outputs": [
    {
     "name": "stdout",
     "output_type": "stream",
     "text": [
      "[[1 2 3]\n",
      " [4 5 6]]\n"
     ]
    }
   ],
   "source": [
    "import numpy as np\n",
    "arr = np.array([[1, 2, 3], [4, 5, 6]])\n",
    "print(arr)\n",
    "   "
   ]
  },
  {
   "cell_type": "markdown",
   "id": "2175fef6",
   "metadata": {},
   "source": [
    "<h1> Check Number Of Dimensions </h1>"
   ]
  },
  {
   "cell_type": "code",
   "execution_count": 21,
   "id": "512dcc16",
   "metadata": {},
   "outputs": [
    {
     "name": "stdout",
     "output_type": "stream",
     "text": [
      "0\n",
      "1\n",
      "2\n",
      "3\n"
     ]
    }
   ],
   "source": [
    "import numpy as np\n",
    "\n",
    "a = np.array(42) #0D\n",
    "b = np.array([1,2,3,4,5]) #1D\n",
    "c = np.array([[1,2,3],[4,5,6]]) #2D\n",
    "d = np.array([[[1,2,3],[4,5,6]],[[1,2,3],[4,5,6]]]) #3D\n",
    "\n",
    "print (a.ndim)\n",
    "print (b.ndim)\n",
    "print (c.ndim)\n",
    "print (d.ndim)"
   ]
  },
  {
   "cell_type": "markdown",
   "id": "f24eff67",
   "metadata": {},
   "source": [
    "<h1> Get the first element from the following array: </h1>"
   ]
  },
  {
   "cell_type": "code",
   "execution_count": 25,
   "id": "fbc8dbce",
   "metadata": {},
   "outputs": [
    {
     "name": "stdout",
     "output_type": "stream",
     "text": [
      "1\n",
      "2\n",
      "3\n",
      "2\n"
     ]
    }
   ],
   "source": [
    "import numpy as np\n",
    "\n",
    "arr = np.array([1, 2, 3, 4,])\n",
    "print(arr[0])\n",
    "print(arr[1])\n",
    "print(arr[2])\n"
   ]
  },
  {
   "cell_type": "code",
   "execution_count": 27,
   "id": "9db4922b",
   "metadata": {},
   "outputs": [
    {
     "name": "stdout",
     "output_type": "stream",
     "text": [
      "3\n"
     ]
    }
   ],
   "source": [
    "import numpy as np\n",
    "\n",
    "arr = np.array([1, 2, 3, 4,])\n",
    "print(arr[0]+arr[1])\n"
   ]
  },
  {
   "cell_type": "code",
   "execution_count": 28,
   "id": "372b074e",
   "metadata": {},
   "outputs": [
    {
     "name": "stdout",
     "output_type": "stream",
     "text": [
      "2nd element on 1st row: 2\n"
     ]
    }
   ],
   "source": [
    "import numpy as np\n",
    "\n",
    "arr = np.array([[1, 2, 3, 4, 5], [6, 7, 8, 9,  10]])\n",
    "print('2nd element on 1st row:', arr[0,1])"
   ]
  },
  {
   "cell_type": "code",
   "execution_count": 41,
   "id": "c0efbe86",
   "metadata": {},
   "outputs": [
    {
     "name": "stdout",
     "output_type": "stream",
     "text": [
      "6\n",
      "5\n",
      "11\n",
      "12\n",
      "34\n"
     ]
    }
   ],
   "source": [
    "# import numpy as np\n",
    "\n",
    "arr = np.array([[[1, 2, 3] , [4, 5, 6]],[[7, 8, 9], [ 10, 11, 12]]])\n",
    "print(arr[0,1,2])\n",
    "print(arr[0,1,1])\n",
    "print(arr[1,1,1])\n",
    "print(arr[1,1,2])\n",
    "print(arr[0,1,2]+arr[0,1,1]+arr[1,1,1]+arr[1,1,2])"
   ]
  },
  {
   "cell_type": "code",
   "execution_count": 42,
   "id": "637a9994",
   "metadata": {},
   "outputs": [
    {
     "name": "stdout",
     "output_type": "stream",
     "text": [
      "Last element from 2nd dim: 10\n"
     ]
    }
   ],
   "source": [
    "import numpy as np\n",
    "\n",
    "arr = np.array([[1,2,3,4,5],[6,7,8,9,10]])\n",
    "\n",
    "print('Last element from 2nd dim:', arr[1,-1])"
   ]
  },
  {
   "cell_type": "code",
   "execution_count": null,
   "id": "70285e3c",
   "metadata": {},
   "outputs": [],
   "source": []
  }
 ],
 "metadata": {
  "kernelspec": {
   "display_name": "Python 3 (ipykernel)",
   "language": "python",
   "name": "python3"
  },
  "language_info": {
   "codemirror_mode": {
    "name": "ipython",
    "version": 3
   },
   "file_extension": ".py",
   "mimetype": "text/x-python",
   "name": "python",
   "nbconvert_exporter": "python",
   "pygments_lexer": "ipython3",
   "version": "3.10.9"
  }
 },
 "nbformat": 4,
 "nbformat_minor": 5
}
